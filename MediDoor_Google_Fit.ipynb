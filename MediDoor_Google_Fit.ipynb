{
  "nbformat": 4,
  "nbformat_minor": 0,
  "metadata": {
    "colab": {
      "provenance": [],
      "include_colab_link": true
    },
    "kernelspec": {
      "name": "python3",
      "display_name": "Python 3"
    },
    "language_info": {
      "name": "python"
    }
  },
  "cells": [
    {
      "cell_type": "markdown",
      "metadata": {
        "id": "view-in-github",
        "colab_type": "text"
      },
      "source": [
        "<a href=\"https://colab.research.google.com/github/SparshRastogi/Project-MediDoor/blob/main/MediDoor_Google_Fit.ipynb\" target=\"_parent\"><img src=\"https://colab.research.google.com/assets/colab-badge.svg\" alt=\"Open In Colab\"/></a>"
      ]
    },
    {
      "cell_type": "code",
      "execution_count": null,
      "metadata": {
        "id": "BEbgmFNhlB39"
      },
      "outputs": [],
      "source": [
        "pip install google-auth"
      ]
    },
    {
      "cell_type": "code",
      "source": [
        "pip install google-api-python-client"
      ],
      "metadata": {
        "id": "GZ6IvhgklN5q"
      },
      "execution_count": null,
      "outputs": []
    },
    {
      "cell_type": "code",
      "source": [
        "from google.colab import drive\n",
        "drive.mount('/content/drive')"
      ],
      "metadata": {
        "colab": {
          "base_uri": "https://localhost:8080/"
        },
        "id": "0-zguani6VJg",
        "outputId": "616d1be2-7988-4016-9f66-95b510c49e76"
      },
      "execution_count": null,
      "outputs": [
        {
          "output_type": "stream",
          "name": "stdout",
          "text": [
            "Mounted at /content/drive\n"
          ]
        }
      ]
    },
    {
      "cell_type": "code",
      "source": [
        "from google.oauth2.credentials import Credentials\n",
        "from google_auth_oauthlib.flow import InstalledAppFlow\n",
        "\n",
        "# Define the scopes for the Fit API\n",
        "SCOPES = ['https://www.googleapis.com/auth/fitness.activity.read']\n",
        "\n",
        "# Set up the OAuth2 flow to get the authorization code\n",
        "flow = InstalledAppFlow.from_client_secrets_file(\n",
        "    '/content/drive/MyDrive/MediDoor/Google Fit/client_secret_166137419911-uv7k334upkhrokuqs5ugrh9e7dq611p2.apps.googleusercontent.com.json',\n",
        "    scopes=SCOPES,\n",
        "    redirect_uri='urn:ietf:wg:oauth:2.0:oob'\n",
        ")\n",
        "auth_url= flow.authorization_url(access_type='offline')\n",
        "\n",
        "# Print the authorization URL and get the authorization code\n",
        "print('Go to the following link in your browser:', auth_url)\n",
        "auth_code = input('Enter the authorization code: ')\n",
        "#authorization_response=auth_code\n",
        "# Exchange the authorization code for access and refresh tokens\n",
        "flow.fetch_token(authorization_response = auth_code)\n",
        "\n",
        "# Get the access and refresh tokens\n",
        "creds = flow.credentials\n",
        "\n",
        "# Save the credentials to a file for future use\n",
        "with open('/content/credentials.json', 'w') as f:\n",
        "     f.write(creds.to_json())"
      ],
      "metadata": {
        "colab": {
          "base_uri": "https://localhost:8080/",
          "height": 453
        },
        "id": "i8b7irbFlGkF",
        "outputId": "3b481428-c0b6-4040-aefc-5de4cde02196"
      },
      "execution_count": null,
      "outputs": [
        {
          "name": "stdout",
          "output_type": "stream",
          "text": [
            "Go to the following link in your browser: ('https://accounts.google.com/o/oauth2/auth?response_type=code&client_id=166137419911-uv7k334upkhrokuqs5ugrh9e7dq611p2.apps.googleusercontent.com&redirect_uri=urn%3Aietf%3Awg%3Aoauth%3A2.0%3Aoob&scope=https%3A%2F%2Fwww.googleapis.com%2Fauth%2Ffitness.activity.read&state=b6I1GWSlUXNulGAFaQc9YaUC7e8TMl&access_type=offline', 'b6I1GWSlUXNulGAFaQc9YaUC7e8TMl')\n",
            "Enter the authorization code: 4/1AVHEtk7RIlruceB1jmOVLVgQscpt1dnVHzW9bXVv3U2i-zm917oEupyw404\n"
          ]
        },
        {
          "output_type": "error",
          "ename": "InsecureTransportError",
          "evalue": "ignored",
          "traceback": [
            "\u001b[0;31m---------------------------------------------------------------------------\u001b[0m",
            "\u001b[0;31mInsecureTransportError\u001b[0m                    Traceback (most recent call last)",
            "\u001b[0;32m<ipython-input-6-bd68c2c5c624>\u001b[0m in \u001b[0;36m<module>\u001b[0;34m\u001b[0m\n\u001b[1;32m     18\u001b[0m \u001b[0;31m#authorization_response=auth_code\u001b[0m\u001b[0;34m\u001b[0m\u001b[0;34m\u001b[0m\u001b[0m\n\u001b[1;32m     19\u001b[0m \u001b[0;31m# Exchange the authorization code for access and refresh tokens\u001b[0m\u001b[0;34m\u001b[0m\u001b[0;34m\u001b[0m\u001b[0m\n\u001b[0;32m---> 20\u001b[0;31m \u001b[0mflow\u001b[0m\u001b[0;34m.\u001b[0m\u001b[0mfetch_token\u001b[0m\u001b[0;34m(\u001b[0m\u001b[0mauthorization_response\u001b[0m \u001b[0;34m=\u001b[0m \u001b[0mauth_code\u001b[0m\u001b[0;34m)\u001b[0m\u001b[0;34m\u001b[0m\u001b[0;34m\u001b[0m\u001b[0m\n\u001b[0m\u001b[1;32m     21\u001b[0m \u001b[0;34m\u001b[0m\u001b[0m\n\u001b[1;32m     22\u001b[0m \u001b[0;31m# Get the access and refresh tokens\u001b[0m\u001b[0;34m\u001b[0m\u001b[0;34m\u001b[0m\u001b[0m\n",
            "\u001b[0;32m/usr/local/lib/python3.9/dist-packages/google_auth_oauthlib/flow.py\u001b[0m in \u001b[0;36mfetch_token\u001b[0;34m(self, **kwargs)\u001b[0m\n\u001b[1;32m    284\u001b[0m         \u001b[0mkwargs\u001b[0m\u001b[0;34m.\u001b[0m\u001b[0msetdefault\u001b[0m\u001b[0;34m(\u001b[0m\u001b[0;34m\"client_secret\"\u001b[0m\u001b[0;34m,\u001b[0m \u001b[0mself\u001b[0m\u001b[0;34m.\u001b[0m\u001b[0mclient_config\u001b[0m\u001b[0;34m[\u001b[0m\u001b[0;34m\"client_secret\"\u001b[0m\u001b[0;34m]\u001b[0m\u001b[0;34m)\u001b[0m\u001b[0;34m\u001b[0m\u001b[0;34m\u001b[0m\u001b[0m\n\u001b[1;32m    285\u001b[0m         \u001b[0mkwargs\u001b[0m\u001b[0;34m.\u001b[0m\u001b[0msetdefault\u001b[0m\u001b[0;34m(\u001b[0m\u001b[0;34m\"code_verifier\"\u001b[0m\u001b[0;34m,\u001b[0m \u001b[0mself\u001b[0m\u001b[0;34m.\u001b[0m\u001b[0mcode_verifier\u001b[0m\u001b[0;34m)\u001b[0m\u001b[0;34m\u001b[0m\u001b[0;34m\u001b[0m\u001b[0m\n\u001b[0;32m--> 286\u001b[0;31m         \u001b[0;32mreturn\u001b[0m \u001b[0mself\u001b[0m\u001b[0;34m.\u001b[0m\u001b[0moauth2session\u001b[0m\u001b[0;34m.\u001b[0m\u001b[0mfetch_token\u001b[0m\u001b[0;34m(\u001b[0m\u001b[0mself\u001b[0m\u001b[0;34m.\u001b[0m\u001b[0mclient_config\u001b[0m\u001b[0;34m[\u001b[0m\u001b[0;34m\"token_uri\"\u001b[0m\u001b[0;34m]\u001b[0m\u001b[0;34m,\u001b[0m \u001b[0;34m**\u001b[0m\u001b[0mkwargs\u001b[0m\u001b[0;34m)\u001b[0m\u001b[0;34m\u001b[0m\u001b[0;34m\u001b[0m\u001b[0m\n\u001b[0m\u001b[1;32m    287\u001b[0m \u001b[0;34m\u001b[0m\u001b[0m\n\u001b[1;32m    288\u001b[0m     \u001b[0;34m@\u001b[0m\u001b[0mproperty\u001b[0m\u001b[0;34m\u001b[0m\u001b[0;34m\u001b[0m\u001b[0m\n",
            "\u001b[0;32m/usr/local/lib/python3.9/dist-packages/requests_oauthlib/oauth2_session.py\u001b[0m in \u001b[0;36mfetch_token\u001b[0;34m(self, token_url, code, authorization_response, body, auth, username, password, method, force_querystring, timeout, headers, verify, proxies, include_client_id, client_secret, cert, **kwargs)\u001b[0m\n\u001b[1;32m    242\u001b[0m \u001b[0;34m\u001b[0m\u001b[0m\n\u001b[1;32m    243\u001b[0m         \u001b[0;32mif\u001b[0m \u001b[0;32mnot\u001b[0m \u001b[0mcode\u001b[0m \u001b[0;32mand\u001b[0m \u001b[0mauthorization_response\u001b[0m\u001b[0;34m:\u001b[0m\u001b[0;34m\u001b[0m\u001b[0;34m\u001b[0m\u001b[0m\n\u001b[0;32m--> 244\u001b[0;31m             self._client.parse_request_uri_response(\n\u001b[0m\u001b[1;32m    245\u001b[0m                 \u001b[0mauthorization_response\u001b[0m\u001b[0;34m,\u001b[0m \u001b[0mstate\u001b[0m\u001b[0;34m=\u001b[0m\u001b[0mself\u001b[0m\u001b[0;34m.\u001b[0m\u001b[0m_state\u001b[0m\u001b[0;34m\u001b[0m\u001b[0;34m\u001b[0m\u001b[0m\n\u001b[1;32m    246\u001b[0m             )\n",
            "\u001b[0;32m/usr/local/lib/python3.9/dist-packages/oauthlib/oauth2/rfc6749/clients/web_application.py\u001b[0m in \u001b[0;36mparse_request_uri_response\u001b[0;34m(self, uri, state)\u001b[0m\n\u001b[1;32m    218\u001b[0m             \u001b[0moauthlib\u001b[0m\u001b[0;34m.\u001b[0m\u001b[0moauth2\u001b[0m\u001b[0;34m.\u001b[0m\u001b[0mrfc6749\u001b[0m\u001b[0;34m.\u001b[0m\u001b[0merrors\u001b[0m\u001b[0;34m.\u001b[0m\u001b[0mMismatchingStateError\u001b[0m\u001b[0;34m\u001b[0m\u001b[0;34m\u001b[0m\u001b[0m\n\u001b[1;32m    219\u001b[0m         \"\"\"\n\u001b[0;32m--> 220\u001b[0;31m         \u001b[0mresponse\u001b[0m \u001b[0;34m=\u001b[0m \u001b[0mparse_authorization_code_response\u001b[0m\u001b[0;34m(\u001b[0m\u001b[0muri\u001b[0m\u001b[0;34m,\u001b[0m \u001b[0mstate\u001b[0m\u001b[0;34m=\u001b[0m\u001b[0mstate\u001b[0m\u001b[0;34m)\u001b[0m\u001b[0;34m\u001b[0m\u001b[0;34m\u001b[0m\u001b[0m\n\u001b[0m\u001b[1;32m    221\u001b[0m         \u001b[0mself\u001b[0m\u001b[0;34m.\u001b[0m\u001b[0mpopulate_code_attributes\u001b[0m\u001b[0;34m(\u001b[0m\u001b[0mresponse\u001b[0m\u001b[0;34m)\u001b[0m\u001b[0;34m\u001b[0m\u001b[0;34m\u001b[0m\u001b[0m\n\u001b[1;32m    222\u001b[0m         \u001b[0;32mreturn\u001b[0m \u001b[0mresponse\u001b[0m\u001b[0;34m\u001b[0m\u001b[0;34m\u001b[0m\u001b[0m\n",
            "\u001b[0;32m/usr/local/lib/python3.9/dist-packages/oauthlib/oauth2/rfc6749/parameters.py\u001b[0m in \u001b[0;36mparse_authorization_code_response\u001b[0;34m(uri, state)\u001b[0m\n\u001b[1;32m    270\u001b[0m     \"\"\"\n\u001b[1;32m    271\u001b[0m     \u001b[0;32mif\u001b[0m \u001b[0;32mnot\u001b[0m \u001b[0mis_secure_transport\u001b[0m\u001b[0;34m(\u001b[0m\u001b[0muri\u001b[0m\u001b[0;34m)\u001b[0m\u001b[0;34m:\u001b[0m\u001b[0;34m\u001b[0m\u001b[0;34m\u001b[0m\u001b[0m\n\u001b[0;32m--> 272\u001b[0;31m         \u001b[0;32mraise\u001b[0m \u001b[0mInsecureTransportError\u001b[0m\u001b[0;34m(\u001b[0m\u001b[0;34m)\u001b[0m\u001b[0;34m\u001b[0m\u001b[0;34m\u001b[0m\u001b[0m\n\u001b[0m\u001b[1;32m    273\u001b[0m \u001b[0;34m\u001b[0m\u001b[0m\n\u001b[1;32m    274\u001b[0m     \u001b[0mquery\u001b[0m \u001b[0;34m=\u001b[0m \u001b[0murlparse\u001b[0m\u001b[0;34m.\u001b[0m\u001b[0murlparse\u001b[0m\u001b[0;34m(\u001b[0m\u001b[0muri\u001b[0m\u001b[0;34m)\u001b[0m\u001b[0;34m.\u001b[0m\u001b[0mquery\u001b[0m\u001b[0;34m\u001b[0m\u001b[0;34m\u001b[0m\u001b[0m\n",
            "\u001b[0;31mInsecureTransportError\u001b[0m: (insecure_transport) OAuth 2 MUST utilize https."
          ]
        }
      ]
    },
    {
      "cell_type": "code",
      "source": [
        "from google.oauth2.credentials import Credentials\n",
        "from google_auth_oauthlib.flow import InstalledAppFlow\n",
        "import os\n",
        "\n",
        "os.environ['OAUTHLIB_INSECURE_TRANSPORT'] = '1'\n",
        "# Define the scopes for the Fit API\n",
        "SCOPES = ['https://www.googleapis.com/auth/fitness.activity.read']\n",
        "\n",
        "# Set up the OAuth2 flow to get the authorization code\n",
        "flow = InstalledAppFlow.from_client_secrets_file(\n",
        "    '/kaggle/input/client/client_secret_166137419911-uv7k334upkhrokuqs5ugrh9e7dq611p2.apps.googleusercontent.com.json',\n",
        "    scopes=SCOPES,\n",
        "    redirect_uri='urn:ietf:wg:oauth:2.0:oob'\n",
        ")\n",
        "auth_url= flow.authorization_url(access_type='offline')\n",
        "\n",
        "# Print the authorization URL and get the authorization code\n",
        "print('Go to the following link in your browser:', auth_url)\n",
        "auth_code = input('Enter the authorization code: ')\n",
        "#authorization_response=auth_code\n",
        "# Exchange the authorization code for access and refresh tokens\n",
        "flow.fetch_token(authorization_response = auth_code)\n",
        "\n",
        "# Get the access and refresh tokens\n",
        "creds = flow.credentials\n",
        "\n",
        "# Save the credentials to a file for future use\n",
        "with open('credentials.json', 'w') as f:\n",
        "     f.write(creds.to_json())"
      ],
      "metadata": {
        "id": "gc25MT3cQnpK"
      },
      "execution_count": null,
      "outputs": []
    },
    {
      "cell_type": "code",
      "source": [
        "import requests\n",
        "\n",
        "url = \"https://v1.nocodeapi.com/sparshrastogi/fit/lJHCHlXnXdVyNjlV/aggregatesDatasets?dataTypeName=steps_count&durationTime=30 days&formatData=hourly\"\n",
        "params = {}\n",
        "r = requests.get(url = url, params = params)\n",
        "result = r.json()\n",
        "print(result)"
      ],
      "metadata": {
        "colab": {
          "base_uri": "https://localhost:8080/"
        },
        "id": "h9eU-wRvNfqm",
        "outputId": "6e1df3de-998a-4cfe-db99-aa7f5204e4e4"
      },
      "execution_count": null,
      "outputs": [
        {
          "output_type": "stream",
          "name": "stdout",
          "text": [
            "{'steps_count': [{'value': 7692, 'startTimeMillis': '1679397103550', 'endTimeMillis': '1679483503550', 'startTime': '21 Mar 2023 11:11 am', 'endTime': '22 Mar 2023 11:11 am'}, {'value': 6697, 'startTimeMillis': '1679483503550', 'endTimeMillis': '1679569903550', 'startTime': '22 Mar 2023 11:11 am', 'endTime': '23 Mar 2023 11:11 am'}, {'value': 5110, 'startTimeMillis': '1679569903550', 'endTimeMillis': '1679656303550', 'startTime': '23 Mar 2023 11:11 am', 'endTime': '24 Mar 2023 11:11 am'}, {'value': 3511, 'startTimeMillis': '1679656303550', 'endTimeMillis': '1679742703550', 'startTime': '24 Mar 2023 11:11 am', 'endTime': '25 Mar 2023 11:11 am'}, {'value': 4787, 'startTimeMillis': '1679742703550', 'endTimeMillis': '1679829103550', 'startTime': '25 Mar 2023 11:11 am', 'endTime': '26 Mar 2023 11:11 am'}, {'value': 5453, 'startTimeMillis': '1679829103550', 'endTimeMillis': '1679915503550', 'startTime': '26 Mar 2023 11:11 am', 'endTime': '27 Mar 2023 11:11 am'}, {'value': 2327, 'startTimeMillis': '1679915503550', 'endTimeMillis': '1679961601000', 'startTime': '27 Mar 2023 11:11 am', 'endTime': '28 Mar 2023 12:00 am'}]}\n"
          ]
        }
      ]
    },
    {
      "cell_type": "code",
      "source": [
        "import pandas as pd\n",
        "df = pd.DataFrame.from_dict(result)"
      ],
      "metadata": {
        "id": "gGfa19jANt7s"
      },
      "execution_count": null,
      "outputs": []
    },
    {
      "cell_type": "code",
      "source": [
        "df"
      ],
      "metadata": {
        "colab": {
          "base_uri": "https://localhost:8080/",
          "height": 269
        },
        "id": "Y3RKednNN1J_",
        "outputId": "1b005787-7009-45d8-d984-ec54275a49a6"
      },
      "execution_count": null,
      "outputs": [
        {
          "output_type": "execute_result",
          "data": {
            "text/plain": [
              "                                         steps_count\n",
              "0  {'value': 7692, 'startTimeMillis': '1679397103...\n",
              "1  {'value': 6697, 'startTimeMillis': '1679483503...\n",
              "2  {'value': 5110, 'startTimeMillis': '1679569903...\n",
              "3  {'value': 3511, 'startTimeMillis': '1679656303...\n",
              "4  {'value': 4787, 'startTimeMillis': '1679742703...\n",
              "5  {'value': 5453, 'startTimeMillis': '1679829103...\n",
              "6  {'value': 2327, 'startTimeMillis': '1679915503..."
            ],
            "text/html": [
              "\n",
              "  <div id=\"df-e9dab72c-9422-4307-8a22-cf199ca2c3b4\">\n",
              "    <div class=\"colab-df-container\">\n",
              "      <div>\n",
              "<style scoped>\n",
              "    .dataframe tbody tr th:only-of-type {\n",
              "        vertical-align: middle;\n",
              "    }\n",
              "\n",
              "    .dataframe tbody tr th {\n",
              "        vertical-align: top;\n",
              "    }\n",
              "\n",
              "    .dataframe thead th {\n",
              "        text-align: right;\n",
              "    }\n",
              "</style>\n",
              "<table border=\"1\" class=\"dataframe\">\n",
              "  <thead>\n",
              "    <tr style=\"text-align: right;\">\n",
              "      <th></th>\n",
              "      <th>steps_count</th>\n",
              "    </tr>\n",
              "  </thead>\n",
              "  <tbody>\n",
              "    <tr>\n",
              "      <th>0</th>\n",
              "      <td>{'value': 7692, 'startTimeMillis': '1679397103...</td>\n",
              "    </tr>\n",
              "    <tr>\n",
              "      <th>1</th>\n",
              "      <td>{'value': 6697, 'startTimeMillis': '1679483503...</td>\n",
              "    </tr>\n",
              "    <tr>\n",
              "      <th>2</th>\n",
              "      <td>{'value': 5110, 'startTimeMillis': '1679569903...</td>\n",
              "    </tr>\n",
              "    <tr>\n",
              "      <th>3</th>\n",
              "      <td>{'value': 3511, 'startTimeMillis': '1679656303...</td>\n",
              "    </tr>\n",
              "    <tr>\n",
              "      <th>4</th>\n",
              "      <td>{'value': 4787, 'startTimeMillis': '1679742703...</td>\n",
              "    </tr>\n",
              "    <tr>\n",
              "      <th>5</th>\n",
              "      <td>{'value': 5453, 'startTimeMillis': '1679829103...</td>\n",
              "    </tr>\n",
              "    <tr>\n",
              "      <th>6</th>\n",
              "      <td>{'value': 2327, 'startTimeMillis': '1679915503...</td>\n",
              "    </tr>\n",
              "  </tbody>\n",
              "</table>\n",
              "</div>\n",
              "      <button class=\"colab-df-convert\" onclick=\"convertToInteractive('df-e9dab72c-9422-4307-8a22-cf199ca2c3b4')\"\n",
              "              title=\"Convert this dataframe to an interactive table.\"\n",
              "              style=\"display:none;\">\n",
              "        \n",
              "  <svg xmlns=\"http://www.w3.org/2000/svg\" height=\"24px\"viewBox=\"0 0 24 24\"\n",
              "       width=\"24px\">\n",
              "    <path d=\"M0 0h24v24H0V0z\" fill=\"none\"/>\n",
              "    <path d=\"M18.56 5.44l.94 2.06.94-2.06 2.06-.94-2.06-.94-.94-2.06-.94 2.06-2.06.94zm-11 1L8.5 8.5l.94-2.06 2.06-.94-2.06-.94L8.5 2.5l-.94 2.06-2.06.94zm10 10l.94 2.06.94-2.06 2.06-.94-2.06-.94-.94-2.06-.94 2.06-2.06.94z\"/><path d=\"M17.41 7.96l-1.37-1.37c-.4-.4-.92-.59-1.43-.59-.52 0-1.04.2-1.43.59L10.3 9.45l-7.72 7.72c-.78.78-.78 2.05 0 2.83L4 21.41c.39.39.9.59 1.41.59.51 0 1.02-.2 1.41-.59l7.78-7.78 2.81-2.81c.8-.78.8-2.07 0-2.86zM5.41 20L4 18.59l7.72-7.72 1.47 1.35L5.41 20z\"/>\n",
              "  </svg>\n",
              "      </button>\n",
              "      \n",
              "  <style>\n",
              "    .colab-df-container {\n",
              "      display:flex;\n",
              "      flex-wrap:wrap;\n",
              "      gap: 12px;\n",
              "    }\n",
              "\n",
              "    .colab-df-convert {\n",
              "      background-color: #E8F0FE;\n",
              "      border: none;\n",
              "      border-radius: 50%;\n",
              "      cursor: pointer;\n",
              "      display: none;\n",
              "      fill: #1967D2;\n",
              "      height: 32px;\n",
              "      padding: 0 0 0 0;\n",
              "      width: 32px;\n",
              "    }\n",
              "\n",
              "    .colab-df-convert:hover {\n",
              "      background-color: #E2EBFA;\n",
              "      box-shadow: 0px 1px 2px rgba(60, 64, 67, 0.3), 0px 1px 3px 1px rgba(60, 64, 67, 0.15);\n",
              "      fill: #174EA6;\n",
              "    }\n",
              "\n",
              "    [theme=dark] .colab-df-convert {\n",
              "      background-color: #3B4455;\n",
              "      fill: #D2E3FC;\n",
              "    }\n",
              "\n",
              "    [theme=dark] .colab-df-convert:hover {\n",
              "      background-color: #434B5C;\n",
              "      box-shadow: 0px 1px 3px 1px rgba(0, 0, 0, 0.15);\n",
              "      filter: drop-shadow(0px 1px 2px rgba(0, 0, 0, 0.3));\n",
              "      fill: #FFFFFF;\n",
              "    }\n",
              "  </style>\n",
              "\n",
              "      <script>\n",
              "        const buttonEl =\n",
              "          document.querySelector('#df-e9dab72c-9422-4307-8a22-cf199ca2c3b4 button.colab-df-convert');\n",
              "        buttonEl.style.display =\n",
              "          google.colab.kernel.accessAllowed ? 'block' : 'none';\n",
              "\n",
              "        async function convertToInteractive(key) {\n",
              "          const element = document.querySelector('#df-e9dab72c-9422-4307-8a22-cf199ca2c3b4');\n",
              "          const dataTable =\n",
              "            await google.colab.kernel.invokeFunction('convertToInteractive',\n",
              "                                                     [key], {});\n",
              "          if (!dataTable) return;\n",
              "\n",
              "          const docLinkHtml = 'Like what you see? Visit the ' +\n",
              "            '<a target=\"_blank\" href=https://colab.research.google.com/notebooks/data_table.ipynb>data table notebook</a>'\n",
              "            + ' to learn more about interactive tables.';\n",
              "          element.innerHTML = '';\n",
              "          dataTable['output_type'] = 'display_data';\n",
              "          await google.colab.output.renderOutput(dataTable, element);\n",
              "          const docLink = document.createElement('div');\n",
              "          docLink.innerHTML = docLinkHtml;\n",
              "          element.appendChild(docLink);\n",
              "        }\n",
              "      </script>\n",
              "    </div>\n",
              "  </div>\n",
              "  "
            ]
          },
          "metadata": {},
          "execution_count": 18
        }
      ]
    }
  ]
}